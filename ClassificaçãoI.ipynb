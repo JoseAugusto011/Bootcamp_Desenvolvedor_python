{
 "cells": [
  {
   "cell_type": "code",
   "execution_count": 76,
   "metadata": {},
   "outputs": [],
   "source": [
    "import  pandas as pd\n",
    "import numpy as np"
   ]
  },
  {
   "cell_type": "code",
   "execution_count": 77,
   "metadata": {},
   "outputs": [
    {
     "data": {
      "text/html": [
       "<div>\n",
       "<style scoped>\n",
       "    .dataframe tbody tr th:only-of-type {\n",
       "        vertical-align: middle;\n",
       "    }\n",
       "\n",
       "    .dataframe tbody tr th {\n",
       "        vertical-align: top;\n",
       "    }\n",
       "\n",
       "    .dataframe thead th {\n",
       "        text-align: right;\n",
       "    }\n",
       "</style>\n",
       "<table border=\"1\" class=\"dataframe\">\n",
       "  <thead>\n",
       "    <tr style=\"text-align: right;\">\n",
       "      <th></th>\n",
       "      <th>date</th>\n",
       "      <th>temperatura</th>\n",
       "      <th>classification</th>\n",
       "    </tr>\n",
       "  </thead>\n",
       "  <tbody>\n",
       "    <tr>\n",
       "      <th>0</th>\n",
       "      <td>2020-01-01</td>\n",
       "      <td>29.1</td>\n",
       "      <td>quente</td>\n",
       "    </tr>\n",
       "    <tr>\n",
       "      <th>1</th>\n",
       "      <td>2020-02-01</td>\n",
       "      <td>31.2</td>\n",
       "      <td>muito quente</td>\n",
       "    </tr>\n",
       "    <tr>\n",
       "      <th>2</th>\n",
       "      <td>2020-03-01</td>\n",
       "      <td>28.5</td>\n",
       "      <td>quente</td>\n",
       "    </tr>\n",
       "    <tr>\n",
       "      <th>3</th>\n",
       "      <td>2020-04-01</td>\n",
       "      <td>28.0</td>\n",
       "      <td>quente</td>\n",
       "    </tr>\n",
       "    <tr>\n",
       "      <th>4</th>\n",
       "      <td>2020-05-01</td>\n",
       "      <td>24.0</td>\n",
       "      <td>confortavel</td>\n",
       "    </tr>\n",
       "    <tr>\n",
       "      <th>5</th>\n",
       "      <td>2020-06-01</td>\n",
       "      <td>20.0</td>\n",
       "      <td>frio</td>\n",
       "    </tr>\n",
       "  </tbody>\n",
       "</table>\n",
       "</div>"
      ],
      "text/plain": [
       "         date  temperatura classification\n",
       "0  2020-01-01         29.1         quente\n",
       "1  2020-02-01         31.2   muito quente\n",
       "2  2020-03-01         28.5         quente\n",
       "3  2020-04-01         28.0         quente\n",
       "4  2020-05-01         24.0    confortavel\n",
       "5  2020-06-01         20.0           frio"
      ]
     },
     "execution_count": 77,
     "metadata": {},
     "output_type": "execute_result"
    }
   ],
   "source": [
    "#pip install scikit-learn\n",
    "df = pd.read_csv('https://pycourse.s3.amazonaws.com/temperature.csv')\n",
    "df"
   ]
  },
  {
   "cell_type": "code",
   "execution_count": 78,
   "metadata": {},
   "outputs": [],
   "source": [
    "# Criar um modelo de machine learning para prever a classe de temperatura (Frio, Bom, Quente) baseado na temperatura;\n",
    "\n",
    "# x  = features (variáveis preditoras) y = target (variável target)\n",
    "\n",
    "x = df[\"temperatura\"].values\n",
    "y = df[\"classification\"].values"
   ]
  },
  {
   "cell_type": "code",
   "execution_count": 79,
   "metadata": {},
   "outputs": [
    {
     "name": "stdout",
     "output_type": "stream",
     "text": [
      "[3 2 3 3 0 1]\n"
     ]
    }
   ],
   "source": [
    "# Criar modelo de classificação usando pré-processamento\n",
    "\n",
    "from sklearn.preprocessing import LabelEncoder\n",
    "\n",
    "# Transformar as classes em valores numéricos, facilitando a classificação\n",
    "\n",
    "le = LabelEncoder() # Instanciando o objeto LabelEncoder\n",
    "y = le.fit_transform(y) # Transformando as classes em valores numéricos\n",
    "\n",
    "\n",
    "#Classes numéricas (0, 1, 2, 3) ->  0 = confortável, 1 = frio, 3 = quente , 2 = muito quente\n",
    "\n",
    "print(y)"
   ]
  },
  {
   "cell_type": "code",
   "execution_count": 80,
   "metadata": {},
   "outputs": [
    {
     "name": "stdout",
     "output_type": "stream",
     "text": [
      "\n",
      "coeficiente angular\n",
      " [[-0.37726722]\n",
      " [-0.92641757]\n",
      " [ 1.05225353]\n",
      " [ 0.25143127]]\n",
      "\n",
      "coeficiente linear\n",
      " [ 10.94763943  23.2334519  -29.40283192  -4.77825942]\n"
     ]
    }
   ],
   "source": [
    "# Usar modelo de regressão logística para classificação\n",
    "\n",
    "from sklearn.linear_model import LogisticRegression\n",
    "\n",
    "# Regressão logística é um algoritmo de classificação binária (duas classes) que usa uma função sigmoide para classificar os dados\n",
    "# Por que regressão logística? Porque a variável target é categórica (Frio, Bom, Quente)\n",
    "\n",
    "lr = LogisticRegression() # Instanciando o objeto LogisticRegression\n",
    "\n",
    "# Treinar o modelo\n",
    "\n",
    "lr.fit(x.reshape(-1, 1), y) # Treinando o modelo --> encontra os coeficientes (a e b) da equação da reta para melhor descrever a regressão\n",
    "\n",
    "# dados da regressão\n",
    "\n",
    "print(\"\\ncoeficiente angular\\n\",lr.coef_) # coeficiente angular da reta\n",
    "print(\"\\ncoeficiente linear\\n\",lr.intercept_) # coeficiente linear da reta\n",
    "\n",
    "\n",
    "# Cada coeficiente corresponde a uma classe (Frio, Bom, Quente, muito quente)"
   ]
  },
  {
   "cell_type": "code",
   "execution_count": 81,
   "metadata": {},
   "outputs": [
    {
     "name": "stdout",
     "output_type": "stream",
     "text": [
      "Valores de temperatura criados:\n",
      "\n",
      "[ 0.          0.45454545  0.90909091  1.36363636  1.81818182  2.27272727\n",
      "  2.72727273  3.18181818  3.63636364  4.09090909  4.54545455  5.\n",
      "  5.45454545  5.90909091  6.36363636  6.81818182  7.27272727  7.72727273\n",
      "  8.18181818  8.63636364  9.09090909  9.54545455 10.         10.45454545\n",
      " 10.90909091 11.36363636 11.81818182 12.27272727 12.72727273 13.18181818\n",
      " 13.63636364 14.09090909 14.54545455 15.         15.45454545 15.90909091\n",
      " 16.36363636 16.81818182 17.27272727 17.72727273 18.18181818 18.63636364\n",
      " 19.09090909 19.54545455 20.         20.45454545 20.90909091 21.36363636\n",
      " 21.81818182 22.27272727 22.72727273 23.18181818 23.63636364 24.09090909\n",
      " 24.54545455 25.         25.45454545 25.90909091 26.36363636 26.81818182\n",
      " 27.27272727 27.72727273 28.18181818 28.63636364 29.09090909 29.54545455\n",
      " 30.         30.45454545 30.90909091 31.36363636 31.81818182 32.27272727\n",
      " 32.72727273 33.18181818 33.63636364 34.09090909 34.54545455 35.\n",
      " 35.45454545 35.90909091 36.36363636 36.81818182 37.27272727 37.72727273\n",
      " 38.18181818 38.63636364 39.09090909 39.54545455 40.         40.45454545\n",
      " 40.90909091 41.36363636 41.81818182 42.27272727 42.72727273 43.18181818\n",
      " 43.63636364 44.09090909 44.54545455 45.        ]\n"
     ]
    }
   ],
   "source": [
    "# Testar modelo em instancias novas criadas aleatoriamente\n",
    "\n",
    "x_test = np.linspace(start = 0, stop = 45, num = 100) # Criando 1000 valores de temperatura entre -10 e 50\n",
    "\n",
    "print(\"Valores de temperatura criados:\\n\")\n",
    "print(x_test)\n"
   ]
  },
  {
   "cell_type": "code",
   "execution_count": 82,
   "metadata": {},
   "outputs": [
    {
     "name": "stdout",
     "output_type": "stream",
     "text": [
      "\n",
      "Valores preditos para os dados criados (Interpretação númerica):\n",
      "\n",
      "[1 1 1 1 1 1 1 1 1 1 1 1 1 1 1 1 1 1 1 1 1 1 1 1 1 1 1 1 1 1 1 1 1 1 1 1 1\n",
      " 1 1 1 1 1 1 1 1 1 1 1 1 1 0 0 0 0 0 0 3 3 3 3 3 3 3 3 3 3 3 3 2 2 2 2 2 2\n",
      " 2 2 2 2 2 2 2 2 2 2 2 2 2 2 2 2 2 2 2 2 2 2 2 2 2 2]\n",
      "\n",
      "Valores preditos para os dados criados (Interpretação categórica):\n",
      "\n",
      "['frio' 'frio' 'frio' 'frio' 'frio' 'frio' 'frio' 'frio' 'frio' 'frio'\n",
      " 'frio' 'frio' 'frio' 'frio' 'frio' 'frio' 'frio' 'frio' 'frio' 'frio'\n",
      " 'frio' 'frio' 'frio' 'frio' 'frio' 'frio' 'frio' 'frio' 'frio' 'frio'\n",
      " 'frio' 'frio' 'frio' 'frio' 'frio' 'frio' 'frio' 'frio' 'frio' 'frio'\n",
      " 'frio' 'frio' 'frio' 'frio' 'frio' 'frio' 'frio' 'frio' 'frio' 'frio'\n",
      " 'confortavel' 'confortavel' 'confortavel' 'confortavel' 'confortavel'\n",
      " 'confortavel' 'quente' 'quente' 'quente' 'quente' 'quente' 'quente'\n",
      " 'quente' 'quente' 'quente' 'quente' 'quente' 'quente' 'muito quente'\n",
      " 'muito quente' 'muito quente' 'muito quente' 'muito quente'\n",
      " 'muito quente' 'muito quente' 'muito quente' 'muito quente'\n",
      " 'muito quente' 'muito quente' 'muito quente' 'muito quente'\n",
      " 'muito quente' 'muito quente' 'muito quente' 'muito quente'\n",
      " 'muito quente' 'muito quente' 'muito quente' 'muito quente'\n",
      " 'muito quente' 'muito quente' 'muito quente' 'muito quente'\n",
      " 'muito quente' 'muito quente' 'muito quente' 'muito quente'\n",
      " 'muito quente' 'muito quente' 'muito quente']\n"
     ]
    }
   ],
   "source": [
    "y_pred = lr.predict(x_test.reshape(-1, 1)) # Fazendo a predição para os valores de temperatura criados\n",
    "\n",
    "print(\"\\nValores preditos para os dados criados (Interpretação númerica):\\n\")\n",
    "print(y_pred) # valores preditos para os dados porém de forma numérica\n",
    "\n",
    "y_pred = le.inverse_transform(y_pred) # Transformando os valores numéricos em forma categorica\n",
    "print(\"\\nValores preditos para os dados criados (Interpretação categórica):\\n\")\n",
    "print(y_pred) # valores preditos para os dados porém de forma categórica"
   ]
  },
  {
   "cell_type": "code",
   "execution_count": 83,
   "metadata": {},
   "outputs": [],
   "source": [
    "# Criando um dataframe com os valores de temperatura e classificação\n",
    "SinteticDf = pd.DataFrame({'Temperatura': x_test, 'Classificação': y_pred})\n",
    "#Salvando o dataframe em um arquivo csv\n",
    "SinteticDf.to_csv('SinteticDf.csv', index=False)"
   ]
  },
  {
   "cell_type": "code",
   "execution_count": 86,
   "metadata": {},
   "outputs": [],
   "source": [
    "# Criar função para classificar a temperatura\n",
    "\n",
    "def ClassifyTemperature(temperature):\n",
    "    \n",
    "    #Usar o modelo de regressão logística para classificar a temperatura\n",
    "    \n",
    "    formatedTemperature = np.array(float(temperature)).reshape(-1, 1) # Transformando a temperatura em um array de uma dimensão\n",
    "    \n",
    "    numericClassification = lr.predict(formatedTemperature) # Classificando a temperatura  \n",
    "\n",
    "    \n",
    "    categoricalClassification = le.inverse_transform(numericClassification) # Transformando a classificação numérica em categórica   \n",
    "\n",
    "    \n",
    "    return categoricalClassification[0] # Retornando a classificação categórica \n",
    "    \n",
    "    "
   ]
  },
  {
   "cell_type": "code",
   "execution_count": 87,
   "metadata": {},
   "outputs": [
    {
     "data": {
      "text/plain": [
       "'frio'"
      ]
     },
     "execution_count": 87,
     "metadata": {},
     "output_type": "execute_result"
    }
   ],
   "source": [
    "ClassifyTemperature(22)"
   ]
  }
 ],
 "metadata": {
  "kernelspec": {
   "display_name": "Python 3",
   "language": "python",
   "name": "python3"
  },
  "language_info": {
   "codemirror_mode": {
    "name": "ipython",
    "version": 3
   },
   "file_extension": ".py",
   "mimetype": "text/x-python",
   "name": "python",
   "nbconvert_exporter": "python",
   "pygments_lexer": "ipython3",
   "version": "3.9.7 (tags/v3.9.7:1016ef3, Aug 30 2021, 20:19:38) [MSC v.1929 64 bit (AMD64)]"
  },
  "orig_nbformat": 4,
  "vscode": {
   "interpreter": {
    "hash": "c7eff589202d1b081309a21c1fcab32e7bd6b92ee77a4b4c9e08aff7652052eb"
   }
  }
 },
 "nbformat": 4,
 "nbformat_minor": 2
}
