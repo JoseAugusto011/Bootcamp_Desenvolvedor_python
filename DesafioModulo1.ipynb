{
 "cells": [
  {
   "attachments": {},
   "cell_type": "markdown",
   "metadata": {},
   "source": [
    "#### Exercicio Modulo 1"
   ]
  },
  {
   "attachments": {},
   "cell_type": "markdown",
   "metadata": {},
   "source": [
    "Atividade 01. Execute e analise a saída do seguinte código no Google Colab"
   ]
  },
  {
   "cell_type": "code",
   "execution_count": 1,
   "metadata": {},
   "outputs": [],
   "source": [
    "# relação dos nomes\n",
    "nomes = ['Maria', 'Julieta', 'Fernando', 'Cristiano', 'Julieta', 'Maria', 'Fernando', 'Cláudio']\n",
    "# estrutura que irá armazenar o número de letras de cada nome\n",
    "qtd_letras = {}\n",
    "# calcula o tamanho de cada nome (em número de letras) e armazena o valor na estrutura\n",
    "for nome in nomes:\n",
    " qtd_letras[nome] = len(nome)"
   ]
  },
  {
   "cell_type": "code",
   "execution_count": 2,
   "metadata": {},
   "outputs": [
    {
     "name": "stdout",
     "output_type": "stream",
     "text": [
      "{'Maria': 5, 'Julieta': 7, 'Fernando': 8, 'Cristiano': 9, 'Cláudio': 7}\n"
     ]
    }
   ],
   "source": [
    "print(qtd_letras)"
   ]
  },
  {
   "attachments": {},
   "cell_type": "markdown",
   "metadata": {},
   "source": [
    "Atividade 02. Reescreva o código da Atividade 01 utilizando o conceito de\n",
    "compreensão de dicionários (dict comprehension)"
   ]
  },
  {
   "cell_type": "code",
   "execution_count": 15,
   "metadata": {},
   "outputs": [
    {
     "name": "stdout",
     "output_type": "stream",
     "text": [
      "{'Maria': 5, 'Julieta': 7, 'Fernando': 8, 'Cristiano': 9, 'Cláudio': 7}\n"
     ]
    }
   ],
   "source": [
    "# relação dos nomes\n",
    "nomes = ['Maria', 'Julieta', 'Fernando', 'Cristiano', 'Julieta', 'Maria', 'Fernando', 'Cláudio']\n",
    "\n",
    "qtd_letras = {nome:len(nome) for nome in nomes}\n",
    "\n",
    "print(qtd_letras)"
   ]
  },
  {
   "cell_type": "code",
   "execution_count": 16,
   "metadata": {},
   "outputs": [
    {
     "data": {
      "text/plain": [
       "5"
      ]
     },
     "execution_count": 16,
     "metadata": {},
     "output_type": "execute_result"
    }
   ],
   "source": [
    "len(qtd_letras)"
   ]
  },
  {
   "cell_type": "code",
   "execution_count": 17,
   "metadata": {},
   "outputs": [
    {
     "data": {
      "text/plain": [
       "8"
      ]
     },
     "execution_count": 17,
     "metadata": {},
     "output_type": "execute_result"
    }
   ],
   "source": [
    "len(nomes)"
   ]
  },
  {
   "cell_type": "code",
   "execution_count": 19,
   "metadata": {},
   "outputs": [
    {
     "data": {
      "text/plain": [
       "82.5"
      ]
     },
     "execution_count": 19,
     "metadata": {},
     "output_type": "execute_result"
    }
   ],
   "source": [
    "(33*100)/40\n"
   ]
  },
  {
   "attachments": {},
   "cell_type": "markdown",
   "metadata": {},
   "source": [
    "Atividade 03. Crie uma função area(r, pi), que calcule a área de um círculo.\n",
    "A área de um círculo é dada por 𝑎 = 𝜋𝑟², onde:\n",
    "##### • 𝜋 é o número pi, cujo valor é ~3,14159265359\n",
    "##### • 𝑟 é o raio do círculo\n",
    "\n",
    "Esta função deve receber dois argumentos, r e pi, e retornar a área de um círculo\n",
    "com raio r. Entretanto, você deve fornecer duas opções de utilização da função:\n",
    "\n",
    "##### a) A utilização de um valor padrão para pi (𝜋 = 3,14), sem a necessidade de declarar explicitamente o seu valor;\n",
    "##### b) A utilização com a declaração explicita do valor exato de pi desejado.\n"
   ]
  },
  {
   "cell_type": "code",
   "execution_count": 5,
   "metadata": {},
   "outputs": [
    {
     "data": {
      "text/plain": [
       "200.96"
      ]
     },
     "execution_count": 5,
     "metadata": {},
     "output_type": "execute_result"
    }
   ],
   "source": [
    "def Area(r, pi=3.14):\n",
    "    return pi * r * r\n",
    "\n",
    "\n",
    "Area(8)"
   ]
  },
  {
   "attachments": {},
   "cell_type": "markdown",
   "metadata": {},
   "source": [
    "Atividade 04. Reescreva a função area da atividade 3, utilizando o conceito de\n",
    "funções anônimas (funções lambdas).\n"
   ]
  },
  {
   "cell_type": "code",
   "execution_count": 6,
   "metadata": {},
   "outputs": [
    {
     "data": {
      "text/plain": [
       "200.96"
      ]
     },
     "execution_count": 6,
     "metadata": {},
     "output_type": "execute_result"
    }
   ],
   "source": [
    "Area = lambda r, pi=3.14: pi * r * r\n",
    "\n",
    "Area(8)"
   ]
  },
  {
   "attachments": {},
   "cell_type": "markdown",
   "metadata": {},
   "source": [
    "Atividade 05. Crie um módulo em Python, chamado processalista (arquivo processalista.py),\n",
    "com as seguintes funções, que deverão receber como argumento uma lista (tipo\n",
    "list) de números inteiros.\n"
   ]
  },
  {
   "cell_type": "code",
   "execution_count": 7,
   "metadata": {},
   "outputs": [],
   "source": [
    "# Encontra e retorna o maior número impar presente na lista\n",
    "def maior_impar(lista):\n",
    "    return max([x for x in lista if x % 2 != 0])\n",
    "# Encontra e retorna o menor número impar presente na lista\n",
    "def menor_impar(lista):\n",
    "    return min([x for x in lista if x % 2 != 0])\n",
    "# Encontra e retorna o maior e o menor número ímpar presentes na lista\n",
    "def Extremidades_impar(lista):\n",
    "    return max([x for x in lista if x % 2 != 0]), min([x for x in lista if x % 2 != 0])"
   ]
  },
  {
   "attachments": {},
   "cell_type": "markdown",
   "metadata": {},
   "source": [
    "Atividade 06. Considere a seguinte agenda de disponibilidade de atendimento de\n",
    "uma clínica com vários médicos, cada um de uma especialidade distinta. Essa\n",
    "clínica possuí apenas três consultórios, e, por isso, no máximo três médicos podem\n",
    "atender por dia. A clínica percebeu que os pacientes que desejam se consultar com mais de um\n",
    "médico sempre solicitam que o atendimento seja realizado no mesmo dia. Por\n",
    "exemplo, um paciente gostaria de se consultar, no mesmo dia, com o ortopedista\n",
    "e com o neurologista, então os dias disponíveis serão: terça e quinta. Outro\n",
    "exemplo é um paciente que gostaria de se consultar com o dermatologista, o\n",
    "neurologista e o psiquiatra. O único dia disponível será a sexta.\n",
    "Entretanto, essas solicitações estão causando dor de cabeça, pois é necessário\n",
    "verificar manualmente a disponibilidade. Você, como um(a) aspirante a\n",
    "desenvolvedor Python, aceitou o desafio de ajudar a automatizar essa tarefa. Para\n",
    "tanto, irá desenvolver duas funções que receberão a relação de disponibilidade de\n",
    "cada médico e que retornarão os dias disponíveis:\n",
    "\n"
   ]
  },
  {
   "cell_type": "code",
   "execution_count": 9,
   "metadata": {},
   "outputs": [],
   "source": [
    "# relação de dias da semana que cada médico atende\n",
    "cardiologista = {'terca', 'quarta'}\n",
    "ortopedista = {'terca', 'quinta'}\n",
    "dermatologista = {'segunda', 'quarta', 'sexta'}\n",
    "neurologista = {'terca', 'quinta', 'sexta'}\n",
    "psiquiatra = {'segunda', 'quarta', 'sexta'}\n",
    "# Calcula quais os dias possíveis para dois médicos\n",
    "def disp_dois_especialistas(medico01, medico02):\n",
    "    return medico01 & medico02\n",
    "# Calcula quais os dias possíveis para três médicos\n",
    "def disp_tres_especialistas(medico01, medico02, medico03):\n",
    "    return medico01 & medico02 & medico03"
   ]
  },
  {
   "cell_type": "code",
   "execution_count": 12,
   "metadata": {},
   "outputs": [
    {
     "name": "stdout",
     "output_type": "stream",
     "text": [
      "{'quinta', 'terca'}\n",
      "{'sexta'}\n"
     ]
    }
   ],
   "source": [
    "# Médicos solicitados: ortopedista e neurologista\n",
    "print(disp_dois_especialistas(ortopedista, neurologista))\n",
    "# RETORNA: terça e quinta\n",
    "# Médicos solicitados: dermatologista, neurologista, psquiatra\n",
    "print(disp_tres_especialistas(dermatologista, neurologista, psiquiatra))\n",
    "\n",
    "# RETORNA: sexta"
   ]
  },
  {
   "cell_type": "code",
   "execution_count": 13,
   "metadata": {},
   "outputs": [
    {
     "data": {
      "text/plain": [
       "[2.0, 2.5, 3.0, 3.5, 4.0, 4.5]"
      ]
     },
     "execution_count": 13,
     "metadata": {},
     "output_type": "execute_result"
    }
   ],
   "source": [
    "m = [n/2 for n in range(0, 10) if n > 3]\n",
    "m"
   ]
  },
  {
   "cell_type": "code",
   "execution_count": null,
   "metadata": {},
   "outputs": [],
   "source": []
  },
  {
   "cell_type": "code",
   "execution_count": null,
   "metadata": {},
   "outputs": [],
   "source": []
  }
 ],
 "metadata": {
  "kernelspec": {
   "display_name": "Python 3",
   "language": "python",
   "name": "python3"
  },
  "language_info": {
   "codemirror_mode": {
    "name": "ipython",
    "version": 3
   },
   "file_extension": ".py",
   "mimetype": "text/x-python",
   "name": "python",
   "nbconvert_exporter": "python",
   "pygments_lexer": "ipython3",
   "version": "3.9.7 (tags/v3.9.7:1016ef3, Aug 30 2021, 20:19:38) [MSC v.1929 64 bit (AMD64)]"
  },
  "orig_nbformat": 4,
  "vscode": {
   "interpreter": {
    "hash": "c7eff589202d1b081309a21c1fcab32e7bd6b92ee77a4b4c9e08aff7652052eb"
   }
  }
 },
 "nbformat": 4,
 "nbformat_minor": 2
}
