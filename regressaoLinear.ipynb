{
 "cells": [
  {
   "attachments": {},
   "cell_type": "markdown",
   "metadata": {},
   "source": [
    "## Regressão Linear"
   ]
  },
  {
   "attachments": {},
   "cell_type": "markdown",
   "metadata": {},
   "source": [
    " Se   X = Matriz mXn com os dados(onde m e n representam suas dimensões)\n",
    " Se   Y = matriz coluna nX1 que representa os targets\n",
    " Fórmula para obter regressão: inverso(transposta(X) * X) * transposta(X) * Y"
   ]
  },
  {
   "cell_type": "code",
   "execution_count": 3,
   "metadata": {},
   "outputs": [],
   "source": [
    "# Visualização dos dados\n",
    "import matplotlib.pyplot as plt\n",
    "#Manipulação de dados\n",
    "import numpy as np\n",
    "# Gerar números aleatórios para o eixo x e y    \n",
    "from random import uniform\n",
    "\n"
   ]
  },
  {
   "attachments": {},
   "cell_type": "markdown",
   "metadata": {},
   "source": [
    "### Instâncias definidas aleatóriamente"
   ]
  },
  {
   "cell_type": "code",
   "execution_count": 4,
   "metadata": {},
   "outputs": [],
   "source": [
    "\"\"\"\n",
    "\n",
    "# Função para gerar os dados\n",
    "# Features/Targets\n",
    "\n",
    "\n",
    "\n",
    "x = np.array([uniform(-1.0, 1.0) for i in range(10)])\n",
    "y = np.array([uniform(-1.0, 3.0) for i in range(10)])\n",
    "\n",
    "\"\"\";\n",
    "\n"
   ]
  },
  {
   "cell_type": "code",
   "execution_count": 5,
   "metadata": {},
   "outputs": [],
   "source": [
    "\"\"\"\n",
    "\n",
    "# adicionar array de 1's para o bias (pois a equação da reta é y = b + ax) --> Só temos o a, o vetor b é o bias\n",
    "\n",
    "x = np.hstack((np.ones((10,1)), x.reshape(10,1)))\n",
    "\n",
    "print(x)\n",
    "print(\"\\n\")\n",
    "print(y)\n",
    "\n",
    "\"\"\";\n"
   ]
  },
  {
   "attachments": {},
   "cell_type": "markdown",
   "metadata": {},
   "source": [
    "### Instancia definida de forma manual"
   ]
  },
  {
   "cell_type": "code",
   "execution_count": 6,
   "metadata": {},
   "outputs": [],
   "source": [
    "# Features/Targets\n",
    "\n",
    "# Valores de teste para as features\n",
    "x = np.array([-0.78, -0.42, 0.11, -0.05, -0.21, -0.68, 0.95, -0.34, 0.72, -0.59,\n",
    "                   0.36, 0.79, 0.62, -0.15, 0.08, -0.99, 0.48, -0.89, 0.23, -0.86,\n",
    "                   0.63, -0.29, -0.03, 0.87, 0.53, -0.46, -0.07, 0.13, 0.68, -0.73,\n",
    "                   0.31, -0.85, 0.16, -0.55, 0.39, 0.18, 0.46, 0.04, 0.27, 0.89, 0.58,\n",
    "                   -0.97, 0.33, -0.61, -0.75, 0.41, -0.25, -0.94, -0.32, -0.81, 0.51,\n",
    "                   -0.67, 0.21, -0.19, 0.42, -0.37, -0.71, 0.73, -0.82, 0.88, -0.49,\n",
    "                   0.02, -0.92, -0.14, -0.18, 0.71, 0.84, -0.58, -0.26, -0.12, 0.49,\n",
    "                   -0.98, 0.38, 0.61, -0.74, -0.91, 0.57, 0.44, 0.99, 0.07, -0.77,\n",
    "                   -0.56, -0.62, -0.38, 0.26, 0.96, 0.74, -0.24, -0.13, 0.65, 0.91,\n",
    "                   0.83, 0.03, 0.76, -0.35, 0.54, -0.44, -0.69, 0.47, -0.09])\n",
    "\n",
    "\n",
    "\n",
    "# adicionar array de 1's para o bias (pois a equação da reta é y = b + ax) --> Só temos o vetor a, o vetor b é o bias (Genérico)\n",
    "x = np.hstack((np.ones((100, 1)), x.reshape(100, 1)))\n",
    "\n",
    "# Valores de teste para os targets\n",
    "y = np.array([-0.22, 0.37, -0.45, 0.14, -0.05, -0.64, 1.05, -0.26, 0.77, -0.81,\n",
    "                   0.44, 0.86, 0.69, -0.34, 0.09, -1.02, 0.57, -0.97, 0.32, -0.99,\n",
    "                   0.68, -0.39, 0.08, 0.93, 0.55, -0.52, -0.08, 0.18, 0.66, -0.72,\n",
    "                   0.38, -1.07, 0.24, -0.62, 0.53, 0.23, 0.51, -0.01, 0.33, 1.0, 0.59,\n",
    "                   -1.03, 0.36, -0.74, -0.88, 0.45, -0.3, -0.89, -0.37, -0.77, 0.49,\n",
    "                   -0.63, 0.15, -0.29, 0.4, -0.48, -0.71, 0.69, -0.82, 0.93, -0.56,\n",
    "                   0.06, -0.95, -0.32, -0.35, 0.77, 0.89, -0.61, -0.27, -0.22, 0.51,\n",
    "                   -1.05, 0.4, 0.62, -0.73, -0.91, 0.6, 0.46, 1.06, 0.11, -0.8,\n",
    "                   -0.59, -0.67, -0.42, 0.25, 1.03, 0.78, -0.3, -0.23, 0.64, 0.91,\n",
    "                   0.83, 0.07, 0.81, -0.32, 0.58, -0.49, -0.68, 0.54, -0.05])\n",
    "\n",
    "\n",
    "\n"
   ]
  },
  {
   "attachments": {},
   "cell_type": "markdown",
   "metadata": {},
   "source": [
    "### Apresentação, Regressão e Predição dos dados "
   ]
  },
  {
   "cell_type": "code",
   "execution_count": 7,
   "metadata": {},
   "outputs": [
    {
     "data": {
      "image/png": "[encoded data removed]",
      "text/plain": [
       "<Figure size 720x360 with 1 Axes>"
      ]
     },
     "metadata": {
      "needs_background": "light"
     },
     "output_type": "display_data"
    }
   ],
   "source": [
    "#Plota os dados originais\n",
    "\n",
    "plt.figure(figsize=(10,5))\n",
    "plt.plot(x,y,'o', label='Dados Originais')\n",
    "plt.legend()\n",
    "plt.xlabel('x')\n",
    "plt.ylabel('y')\n",
    "plt.grid()\n",
    "plt.show()"
   ]
  },
  {
   "cell_type": "code",
   "execution_count": 8,
   "metadata": {},
   "outputs": [
    {
     "name": "stdout",
     "output_type": "stream",
     "text": [
      "\n",
      "Valor de Beta: 1 * x + 0\n"
     ]
    }
   ],
   "source": [
    "# Estimando os parâmetros\n",
    "\n",
    "Beta = np.linalg.pinv(x).dot(y) # Modelo de regressão linear\n",
    "\n",
    "print(\"\\nValor de Beta: %d * x + %d\" % (Beta[1], Beta[0]))\n",
    "\n"
   ]
  },
  {
   "cell_type": "code",
   "execution_count": 9,
   "metadata": {},
   "outputs": [
    {
     "data": {
      "image/png": "[encoded data removed]",
      "text/plain": [
       "<Figure size 720x360 with 1 Axes>"
      ]
     },
     "metadata": {
      "needs_background": "light"
     },
     "output_type": "display_data"
    }
   ],
   "source": [
    "# Plotando os dados  e a reta estimada\n",
    "\n",
    "plt.figure(figsize=(10,5))\n",
    "plt.plot(x,y,'o', label='Dados Originais')\n",
    "plt.plot(x, x.dot(Beta), label='Reta Estimada')\n",
    "plt.legend()\n",
    "plt.xlabel('x')\n",
    "plt.ylabel('y')\n",
    "plt.title('Regressão Linear')\n",
    "plt.grid()\n",
    "plt.show()"
   ]
  },
  {
   "cell_type": "code",
   "execution_count": 12,
   "metadata": {},
   "outputs": [
    {
     "name": "stdout",
     "output_type": "stream",
     "text": [
      "Y = A * X + B\n",
      "\n",
      "Y = 1.0382 * X + 0.0074\n",
      "Valor de X: 0\n",
      "\n",
      "Valor previsto: 0\n",
      "\n",
      "Valor real: 0\n"
     ]
    }
   ],
   "source": [
    "#Exemplo de previsão\n",
    "#y = a * x + b --> x  = valor a ser previsto\n",
    "\n",
    "print(\"Y = A * X + B\\n\")\n",
    "# Imprimir com 4 casas decimais\n",
    "print(\"Y = %.4f * X + %.4f\" % (Beta[1], Beta[0]))\n",
    "\n",
    "print(\"Valor de X: %d\" %(x[20][1])) \n",
    "\n",
    "print(\"\\nValor previsto: %d\" %(x[20][1] * Beta[1] + Beta[0])) # Usa a equação da reta para prever o valor de y\n",
    "print(\"\\nValor real: %d\" %(y[20]))"
   ]
  },
  {
   "attachments": {},
   "cell_type": "markdown",
   "metadata": {},
   "source": [
    "### Verificar precisão\n"
   ]
  },
  {
   "cell_type": "code",
   "execution_count": 11,
   "metadata": {},
   "outputs": [
    {
     "name": "stdout",
     "output_type": "stream",
     "text": [
      "Coeficiente de Determinação (R²): 0.9539729206232004\n",
      "Erro Médio Quadrático (RMSE): 0.1336045487120864\n"
     ]
    }
   ],
   "source": [
    "# Calcular as previsões usando os dados de teste\n",
    "y_pred = x.dot(Beta)\n",
    "\n",
    "# Calcular o coeficiente de determinação (R²)\n",
    "y_mean = np.mean(y)\n",
    "ss_total = np.sum((y - y_mean) ** 2)\n",
    "ss_residual = np.sum((y - y_pred) ** 2)\n",
    "r2 = 1 - (ss_residual / ss_total)\n",
    "\n",
    "# Calcular o erro médio quadrático (RMSE)\n",
    "mse = np.mean((y - y_pred) ** 2)\n",
    "rmse = np.sqrt(mse)\n",
    "\n",
    "print(\"Coeficiente de Determinação (R²):\", r2)\n",
    "print(\"Erro Médio Quadrático (RMSE):\", rmse)"
   ]
  }
 ],
 "metadata": {
  "kernelspec": {
   "display_name": "Python 3",
   "language": "python",
   "name": "python3"
  },
  "language_info": {
   "codemirror_mode": {
    "name": "ipython",
    "version": 3
   },
   "file_extension": ".py",
   "mimetype": "text/x-python",
   "name": "python",
   "nbconvert_exporter": "python",
   "pygments_lexer": "ipython3",
   "version": "3.9.7 (tags/v3.9.7:1016ef3, Aug 30 2021, 20:19:38) [MSC v.1929 64 bit (AMD64)]"
  },
  "orig_nbformat": 4,
  "vscode": {
   "interpreter": {
    "hash": "c7eff589202d1b081309a21c1fcab32e7bd6b92ee77a4b4c9e08aff7652052eb"
   }
  }
 },
 "nbformat": 4,
 "nbformat_minor": 2
}
