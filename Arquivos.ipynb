{
 "cells": [
  {
   "attachments": {},
   "cell_type": "markdown",
   "metadata": {},
   "source": [
    "## Leitura e escrita de arquivos\n",
    "\n",
    "### Modos de Leitura e escrita\n",
    "\n",
    "    1 - 'r' somente leitura\n",
    "    2 - 'w' escrita (Sobrescreve arquivo caso já exista, cria novo caso não!)\n",
    "    3 - 'x' escrita (Retorna erro caso arquivo já exista, cria novo caso não!)\n",
    "    4 - 'a' escrita (adiciona linhas ao arquivo )\n",
    "    5 - 't' e 'b' Modos de leitura em texto ou binário"
   ]
  },
  {
   "cell_type": "code",
   "execution_count": 13,
   "metadata": {},
   "outputs": [],
   "source": [
    "estados = {\"AM\": \"Amazonas\", \"PA\": \"Pará\", \"TO\": \"Tocantins\", \"MG\": \"Minas Gerais\", \"BA\": \"Bahia\", \"PR\": \"Paraná\", \"SP\": \"São Paulo\", \"RJ\": \"Rio de Janeiro\", \"SC\": \"Santa Catarina\", \"RS\": \"Rio Grande do Sul\"}"
   ]
  },
  {
   "cell_type": "code",
   "execution_count": 14,
   "metadata": {},
   "outputs": [],
   "source": [
    "arq = open(\"teste.txt\", \"w\")\n",
    "\n",
    "arq.write(\"Estados do Brasil\\n\")\n",
    "for sigla, nome in estados.items():\n",
    "    arq.write(f\"{sigla} - {nome}\\n\")\n",
    "\n",
    "arq.close()\n"
   ]
  },
  {
   "cell_type": "code",
   "execution_count": 15,
   "metadata": {},
   "outputs": [
    {
     "name": "stdout",
     "output_type": "stream",
     "text": [
      "Estados do Brasil\n",
      "AM - Amazonas\n",
      "PA - Pará\n",
      "TO - Tocantins\n",
      "MG - Minas Gerais\n",
      "BA - Bahia\n",
      "PR - Paraná\n",
      "SP - São Paulo\n",
      "RJ - Rio de Janeiro\n",
      "SC - Santa Catarina\n",
      "RS - Rio Grande do Sul\n",
      "\n"
     ]
    }
   ],
   "source": [
    "#Armazena o conteúdo do arquivo em uma variável\n",
    "arq = open(\"teste.txt\", \"r\")\n",
    "linhas = arq.read() # lê o arquivo\n",
    "arq.close()\n",
    "print(linhas)"
   ]
  },
  {
   "cell_type": "code",
   "execution_count": 16,
   "metadata": {},
   "outputs": [
    {
     "name": "stdout",
     "output_type": "stream",
     "text": [
      "['Estados do Brasil\\n', 'AM - Amazonas\\n', 'PA - Pará\\n', 'TO - Tocantins\\n', 'MG - Minas Gerais\\n', 'BA - Bahia\\n', 'PR - Paraná\\n', 'SP - São Paulo\\n', 'RJ - Rio de Janeiro\\n', 'SC - Santa Catarina\\n', 'RS - Rio Grande do Sul\\n']\n"
     ]
    }
   ],
   "source": [
    "#Armazena o conteúdo do arquivo em uma lista\n",
    "arq = open(\"teste.txt\", \"r\") \n",
    "linhas = arq.readlines() # lê o arquivo\n",
    "arq.close()\n",
    "print(linhas)"
   ]
  },
  {
   "cell_type": "code",
   "execution_count": 17,
   "metadata": {},
   "outputs": [
    {
     "name": "stdout",
     "output_type": "stream",
     "text": [
      "Estados do Brasil\n",
      "AM - Amazonas\n",
      "PA - Pará\n",
      "TO - Tocantins\n",
      "MG - Minas Gerais\n",
      "BA - Bahia\n",
      "PR - Paraná\n",
      "SP - São Paulo\n",
      "RJ - Rio de Janeiro\n",
      "SC - Santa Catarina\n",
      "RS - Rio Grande do Sul\n"
     ]
    }
   ],
   "source": [
    "arq = open(\"teste.txt\", \"r\")\n",
    "for linha in arq:\n",
    "    print(linha[:-1]) # imprime a linha sem o último caractere\n",
    "arq.close()\n"
   ]
  }
 ],
 "metadata": {
  "kernelspec": {
   "display_name": "Python 3",
   "language": "python",
   "name": "python3"
  },
  "language_info": {
   "codemirror_mode": {
    "name": "ipython",
    "version": 3
   },
   "file_extension": ".py",
   "mimetype": "text/x-python",
   "name": "python",
   "nbconvert_exporter": "python",
   "pygments_lexer": "ipython3",
   "version": "3.9.7 (tags/v3.9.7:1016ef3, Aug 30 2021, 20:19:38) [MSC v.1929 64 bit (AMD64)]"
  },
  "orig_nbformat": 4,
  "vscode": {
   "interpreter": {
    "hash": "c7eff589202d1b081309a21c1fcab32e7bd6b92ee77a4b4c9e08aff7652052eb"
   }
  }
 },
 "nbformat": 4,
 "nbformat_minor": 2
}
