{
 "cells": [
  {
   "attachments": {},
   "cell_type": "markdown",
   "metadata": {},
   "source": [
    "## List comprehension - dict comprehension - Lâmbda - Ternário\n"
   ]
  },
  {
   "attachments": {},
   "cell_type": "markdown",
   "metadata": {},
   "source": [
    "### List comprehension\n",
    "\n",
    "####  sintaxe :\n",
    "\n",
    "\n",
    "* lista = [expressao(item) for item in sequencia]\n",
    "* lista = [item for item in sequencia if (expr(item))]\n",
    "* lista = [for item in sequencia if (expr(item)) choice_1 else choice_2]"
   ]
  },
  {
   "cell_type": "code",
   "execution_count": 13,
   "metadata": {},
   "outputs": [
    {
     "name": "stdout",
     "output_type": "stream",
     "text": [
      "[0, 2, 4, 6, 8]\n",
      "[True, False, False, True, False, False, True, False, False, True]\n",
      "[0, 2, 4, 6, 8]\n",
      "[True, False, False, True, False, False, True, False, False, True]\n"
     ]
    }
   ],
   "source": [
    "# Usual\n",
    "\n",
    "pares = []\n",
    "for x in range(10):\n",
    "    if x % 2 == 0:\n",
    "        pares.append(x)\n",
    "\n",
    "divisiveis = []\n",
    "for x in range(10):\n",
    "    if x % 3 == 0:\n",
    "        divisiveis.append(True)\n",
    "    else:\n",
    "        divisiveis.append(False)\n",
    "    \n",
    "    \n",
    "print(pares)\n",
    "print(divisiveis)\n",
    "\n",
    "pares = []\n",
    "divisiveis = []\n",
    "\n",
    "# List Comprehension\n",
    "\n",
    "## Lista de valores divisíveis por 2\n",
    "pares = [x for x in range(10) if x % 2 == 0]\n",
    "## Lista de valores divisíveis por 3 --> True ou False\n",
    "divisiveis = [True if x % 3 == 0 else False for x in range(10)]\n",
    "\n",
    "print(pares)\n",
    "print(divisiveis)\n",
    "\n"
   ]
  },
  {
   "attachments": {},
   "cell_type": "markdown",
   "metadata": {},
   "source": [
    "### Dict comprehension\n",
    "\n",
    "#### sintaxe:\n",
    "\n",
    "* dicionario = {item:expr(item) for item in sequencia }"
   ]
  },
  {
   "cell_type": "code",
   "execution_count": 14,
   "metadata": {},
   "outputs": [
    {
     "name": "stdout",
     "output_type": "stream",
     "text": [
      "{0: 'par', 1: 'impar', 2: 'par', 3: 'impar', 4: 'par', 5: 'impar', 6: 'par', 7: 'impar', 8: 'par', 9: 'impar'}\n",
      "{0: 'par', 1: 'impar', 2: 'par', 3: 'impar', 4: 'par', 5: 'impar', 6: 'par', 7: 'impar', 8: 'par', 9: 'impar'}\n"
     ]
    }
   ],
   "source": [
    "#Usual\n",
    "\n",
    "tern = {}\n",
    "\n",
    "for item in range(10):\n",
    "    if item % 2 == 0:\n",
    "        tern[item] = 'par'\n",
    "    else:\n",
    "        tern[item] = 'impar'\n",
    "print(tern)\n",
    "\n",
    "# Dictionary Comprehension\n",
    "\n",
    "tern = {item: ('par' if item % 2 == 0 else 'impar') for item in range(10)}\n",
    "print(tern)"
   ]
  },
  {
   "attachments": {},
   "cell_type": "markdown",
   "metadata": {},
   "source": [
    "### Lambda\n",
    "#### sintaxe:\n",
    "* Lambda argumentos : (expr)"
   ]
  },
  {
   "cell_type": "code",
   "execution_count": 16,
   "metadata": {},
   "outputs": [
    {
     "data": {
      "text/plain": [
       "[True, False, True, False, True, False, True, False, True, False]"
      ]
     },
     "execution_count": 16,
     "metadata": {},
     "output_type": "execute_result"
    }
   ],
   "source": [
    "# Usual\n",
    "\n",
    "def Area_Triangulo(base, altura):\n",
    "    return base * altura / 2\n",
    "\n",
    "# Lambda\n",
    "\n",
    "Area_Triangulo = lambda base, altura: base * altura / 2\n",
    "Area_Triangulo(5, 6)\n",
    "\n",
    "# Lamabda feat map,list comprehension\n",
    "\n",
    "nums = [x for x in range(10)]\n",
    "\n",
    "Par = lambda x: x%2 == 0 # Função lambda que retorna True se o número for par\n",
    "\n",
    "list(map(Par, nums)) # Aplicando a função lambda a cada elemento da lista\n",
    "\n"
   ]
  },
  {
   "attachments": {},
   "cell_type": "markdown",
   "metadata": {},
   "source": [
    "### Ternário\n",
    "\n",
    "#### Sintaxe:\n",
    "\n",
    "* valor_se_verdadeiro if condicao else valor_se_falso"
   ]
  },
  {
   "cell_type": "code",
   "execution_count": 17,
   "metadata": {},
   "outputs": [
    {
     "name": "stdout",
     "output_type": "stream",
     "text": [
      "20\n",
      "20\n"
     ]
    }
   ],
   "source": [
    "a = 10\n",
    "b = 20\n",
    "\n",
    "# Usual\n",
    "\n",
    "if a > b:\n",
    "    print(a)\n",
    "else:\n",
    "    print(b)\n",
    "    \n",
    "# Ternário\n",
    "\n",
    "print(a) if a > b else print(b)\n"
   ]
  }
 ],
 "metadata": {
  "kernelspec": {
   "display_name": "Python 3",
   "language": "python",
   "name": "python3"
  },
  "language_info": {
   "codemirror_mode": {
    "name": "ipython",
    "version": 3
   },
   "file_extension": ".py",
   "mimetype": "text/x-python",
   "name": "python",
   "nbconvert_exporter": "python",
   "pygments_lexer": "ipython3",
   "version": "3.9.7 (tags/v3.9.7:1016ef3, Aug 30 2021, 20:19:38) [MSC v.1929 64 bit (AMD64)]"
  },
  "orig_nbformat": 4,
  "vscode": {
   "interpreter": {
    "hash": "c7eff589202d1b081309a21c1fcab32e7bd6b92ee77a4b4c9e08aff7652052eb"
   }
  }
 },
 "nbformat": 4,
 "nbformat_minor": 2
}
