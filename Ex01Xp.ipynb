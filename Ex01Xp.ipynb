{
  "nbformat": 4,
  "nbformat_minor": 0,
  "metadata": {
    "colab": {
      "provenance": []
    },
    "kernelspec": {
      "name": "python3",
      "display_name": "Python 3"
    },
    "language_info": {
      "name": "python"
    }
  },
  "cells": [
    {
      "cell_type": "code",
      "execution_count": null,
      "metadata": {
        "colab": {
          "base_uri": "https://localhost:8080/"
        },
        "id": "wUaYetYw_6zc",
        "outputId": "736b2e71-a549-479e-8746-a06cec50a991"
      },
      "outputs": [
        {
          "output_type": "stream",
          "name": "stdout",
          "text": [
            "0\n",
            "5\n",
            "10\n",
            "15\n",
            "20\n",
            "25\n",
            "30\n",
            "35\n",
            "40\n",
            "45\n",
            "50\n",
            "55\n",
            "60\n",
            "65\n",
            "70\n",
            "75\n",
            "80\n",
            "85\n",
            "90\n",
            "95\n"
          ]
        }
      ],
      "source": [
        "# Execute e analise a saída do seguinte código no Google Colab\n",
        "\n",
        "\n",
        "# declaração das variáveis\n",
        "inicio = 0\n",
        "fim = 100\n",
        "# verifica quais números são divisíveis por cinco, e exibe aqueles que são\n",
        "for numero in range(inicio, fim):\n",
        " if numero % 5 == 0:\n",
        "  print(numero)\n"
      ]
    },
    {
      "cell_type": "code",
      "source": [
        "#conversão de tipos\n",
        "\n",
        "\n",
        "cpf  =   '12345678900'\n",
        "cpf  =  int(cpf)\n",
        "cpf"
      ],
      "metadata": {
        "colab": {
          "base_uri": "https://localhost:8080/"
        },
        "id": "W-yr69rrrebt",
        "outputId": "49021022-a225-4664-859d-115f57335321"
      },
      "execution_count": null,
      "outputs": [
        {
          "output_type": "execute_result",
          "data": {
            "text/plain": [
              "12345678900"
            ]
          },
          "metadata": {},
          "execution_count": 5
        }
      ]
    },
    {
      "cell_type": "code",
      "source": [
        "\"\"\"\n",
        "Altere o código da atividade 1 para que ele exiba os números múltiplos de \n",
        "2, 5 e 7 (simultaneamente) e que estejam dentro do intervalo entre 100 e \n",
        "500 (incluindo o 100 e o 500).\n",
        "\"\"\"\n",
        "\n",
        "# declaração das variáveis\n",
        "inicio = 100\n",
        "fim = 501\n",
        "# verifica quais números são divisíveis por cinco, e exibe aqueles que são\n",
        "for numero in range(inicio, fim):\n",
        " if (numero % 5 == 0) and (numero % 7 == 0) and (numero % 2 == 0):\n",
        "    print(numero)\n"
      ],
      "metadata": {
        "colab": {
          "base_uri": "https://localhost:8080/"
        },
        "id": "N0LvqOMgtVAo",
        "outputId": "481658cc-7c70-4355-e326-a49a8023cdb7"
      },
      "execution_count": null,
      "outputs": [
        {
          "output_type": "stream",
          "name": "stdout",
          "text": [
            "140\n",
            "210\n",
            "280\n",
            "350\n",
            "420\n",
            "490\n"
          ]
        }
      ]
    },
    {
      "cell_type": "code",
      "source": [
        "\"\"\"\n",
        "3. Altere o código da atividade 1, criando uma variável divisor e, em seguida, \n",
        "verifique quais os números no intervalo entre 0 e 1000 (incluindo o 0 e \n",
        "excluindo o 1000) são múltiplos da variável divisor. \n",
        "Por exemplo, se o valor de divisor for igual a 3, todos os números múltiplos de 3, \n",
        "dentro do intervalo, deverão ser exibidos (0, 3, 6, 9, ..., 996, 999)\n",
        "\"\"\"\n",
        "\n",
        "# Execute e analise a saída do seguinte código no Google Colab\n",
        "\n",
        "\n",
        "# declaração das variáveis\n",
        "inicio = 0\n",
        "fim = 1000\n",
        "divisor = 96\n",
        "# verifica quais números são divisíveis por cinco, e exibe aqueles que são\n",
        "for numero in range(inicio, fim):\n",
        " if numero % divisor == 0:\n",
        "  print(numero)\n",
        "\n",
        "\n"
      ],
      "metadata": {
        "colab": {
          "base_uri": "https://localhost:8080/"
        },
        "id": "ke6ZFqEUu7yp",
        "outputId": "2017da2e-7313-427c-a2d0-18d852c66a12"
      },
      "execution_count": null,
      "outputs": [
        {
          "output_type": "stream",
          "name": "stdout",
          "text": [
            "0\n",
            "96\n",
            "192\n",
            "288\n",
            "384\n",
            "480\n",
            "576\n",
            "672\n",
            "768\n",
            "864\n",
            "960\n"
          ]
        }
      ]
    },
    {
      "cell_type": "code",
      "source": [
        "python  = 10\n",
        "\n",
        "python\n"
      ],
      "metadata": {
        "colab": {
          "base_uri": "https://localhost:8080/"
        },
        "id": "rYdYfyOIsln8",
        "outputId": "4863e42b-1186-409a-85db-84f9d453ce96"
      },
      "execution_count": null,
      "outputs": [
        {
          "output_type": "execute_result",
          "data": {
            "text/plain": [
              "10"
            ]
          },
          "metadata": {},
          "execution_count": 7
        }
      ]
    },
    {
      "cell_type": "code",
      "source": [
        "'5'+'5'"
      ],
      "metadata": {
        "colab": {
          "base_uri": "https://localhost:8080/",
          "height": 35
        },
        "id": "w71i4XBls9np",
        "outputId": "126b3c11-d51b-4cf3-bea8-ab2f8ff9c206"
      },
      "execution_count": null,
      "outputs": [
        {
          "output_type": "execute_result",
          "data": {
            "text/plain": [
              "'55'"
            ],
            "application/vnd.google.colaboratory.intrinsic+json": {
              "type": "string"
            }
          },
          "metadata": {},
          "execution_count": 8
        }
      ]
    },
    {
      "cell_type": "code",
      "source": [
        "a = True and False\n",
        "b = False or True\n",
        "#Grupo de escolhas da pergunta\n",
        "\n",
        "print(a,b)"
      ],
      "metadata": {
        "colab": {
          "base_uri": "https://localhost:8080/"
        },
        "id": "nEfSEodjufyu",
        "outputId": "0a4921c1-a154-4370-b43a-bf851ba9fcff"
      },
      "execution_count": null,
      "outputs": [
        {
          "output_type": "stream",
          "name": "stdout",
          "text": [
            "False True\n"
          ]
        }
      ]
    },
    {
      "cell_type": "code",
      "source": [
        "\"\"\"4. Crie um código declarando as seguintes variáveis do tipo string:\n",
        "# variáveis do tipo string\n",
        "nome = 'João da Silva'\n",
        "cidade = 'São Paulo'\n",
        "cpf = '123.456.789-00'\n",
        "Em seguida, realize as seguintes transformações nas variáveis:\n",
        "● Transforme todos os caracteres das variáveis em maiúsculo;\n",
        "● Transforme todos os caracteres das variáveis em minúsculo;\n",
        "● Exiba a posição do caractere ã, se presente, em cada uma das variáveis;\n",
        "● Exiba o número de caracteres de cada variável;\n",
        "● Remova os pontos (.) e o hífen (–) da variável cpf\n",
        "\n",
        "\"\"\"\n",
        "\n",
        "nome = 'João da Silva'\n",
        "cidade = 'São Paulo'\n",
        "cpf = '123.456.789-00'\n",
        "\n",
        "print(nome.upper(),cidade.upper(),cpf.upper())\n",
        "print(nome.lower(),cidade.lower(),cpf.lower())\n",
        "\n",
        "conjunto = [nome, cidade, cpf]\n",
        "\n",
        "for charizard in conjunto:\n",
        "    \n",
        "    print(f\"tamanho : {len(charizard)}\")\n",
        "    if 'ã' in charizard:\n",
        "      print(cidade.index('ã'))\n",
        "    else:\n",
        "      print(\"\\nnão possui 'ã' \\n\")\n",
        "\n",
        "cpf = '123.456.789-00'\n",
        "cpf = cpf.replace(\".\",\"\")\n",
        "cpf = cpf.replace(\"-\",\"\")\n",
        "cpf\n"
      ],
      "metadata": {
        "colab": {
          "base_uri": "https://localhost:8080/",
          "height": 209
        },
        "id": "jragP589vqTC",
        "outputId": "bf8dfb4d-9967-4a46-ada8-442e3a3d1192"
      },
      "execution_count": null,
      "outputs": [
        {
          "output_type": "stream",
          "name": "stdout",
          "text": [
            "JOÃO DA SILVA SÃO PAULO 123.456.789-00\n",
            "joão da silva são paulo 123.456.789-00\n",
            "tamanho : 13\n",
            "1\n",
            "tamanho : 9\n",
            "1\n",
            "tamanho : 14\n",
            "\n",
            "não possui 'ã' \n",
            "\n"
          ]
        },
        {
          "output_type": "execute_result",
          "data": {
            "text/plain": [
              "'12345678900'"
            ],
            "application/vnd.google.colaboratory.intrinsic+json": {
              "type": "string"
            }
          },
          "metadata": {},
          "execution_count": 26
        }
      ]
    },
    {
      "cell_type": "code",
      "source": [],
      "metadata": {
        "colab": {
          "base_uri": "https://localhost:8080/",
          "height": 35
        },
        "id": "zAD7PK5gy3cl",
        "outputId": "d905c2bf-e1f6-4308-efa1-9c02805e7c01"
      },
      "execution_count": null,
      "outputs": [
        {
          "output_type": "execute_result",
          "data": {
            "text/plain": [
              "'12345678900'"
            ],
            "application/vnd.google.colaboratory.intrinsic+json": {
              "type": "string"
            }
          },
          "metadata": {},
          "execution_count": 24
        }
      ]
    },
    {
      "cell_type": "code",
      "source": [
        "cidade = 'São Paulo'\n",
        "len(cidade)\n",
        "\n"
      ],
      "metadata": {
        "colab": {
          "base_uri": "https://localhost:8080/"
        },
        "id": "4wY4GGYIxVRR",
        "outputId": "a51cb1da-196e-42a9-b020-737ec6fcb7bd"
      },
      "execution_count": null,
      "outputs": [
        {
          "output_type": "execute_result",
          "data": {
            "text/plain": [
              "9"
            ]
          },
          "metadata": {},
          "execution_count": 19
        }
      ]
    },
    {
      "cell_type": "code",
      "source": [
        "\"\"\" \n",
        "5. Crie um código que realize o somatório de todos os caracteres da seguinte \n",
        "string:\n",
        "numero = '127957'\n",
        "Para resolver este problema, considere as seguintes dicas:\n",
        "● A soma deverá ser 1 + 2 + 7 + 9 + 5 + 7 = 31; ● Utilize o laço de repetição for … in; para percorrer cada caractere da string;\n",
        "● Utilize a conversão do tipo string para o tipo inteiro (int(caractere)) para \n",
        "converter os caracteres em valores numéricos;\n",
        "● Utilize uma variável auxiliar, soma, para acumular o somatório dos valores.\n",
        "\n",
        "\n",
        "\"\"\""
      ],
      "metadata": {
        "id": "-s1eeMtZv2RD"
      },
      "execution_count": null,
      "outputs": []
    },
    {
      "cell_type": "code",
      "source": [
        "numero = '127957'\n",
        "int(numero) + 1.0"
      ],
      "metadata": {
        "colab": {
          "base_uri": "https://localhost:8080/"
        },
        "id": "ZUggFMjNwBli",
        "outputId": "ad8203de-20cc-4c86-9cbb-d635bd9023d5"
      },
      "execution_count": null,
      "outputs": [
        {
          "output_type": "execute_result",
          "data": {
            "text/plain": [
              "127958.0"
            ]
          },
          "metadata": {},
          "execution_count": 15
        }
      ]
    },
    {
      "cell_type": "code",
      "source": [
        "(2 + 3) * 5 - 1"
      ],
      "metadata": {
        "colab": {
          "base_uri": "https://localhost:8080/"
        },
        "id": "wQP1s2r8wOK9",
        "outputId": "994b0482-dab1-47fa-fe92-4e22bed81a8b"
      },
      "execution_count": null,
      "outputs": [
        {
          "output_type": "execute_result",
          "data": {
            "text/plain": [
              "24"
            ]
          },
          "metadata": {},
          "execution_count": 17
        }
      ]
    }
  ]
}